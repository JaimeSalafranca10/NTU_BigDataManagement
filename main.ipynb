{
 "cells": [
  {
   "cell_type": "markdown",
   "id": "7e9fac62",
   "metadata": {},
   "source": [
    "## BIG DATA MANAGEMENT STEP 1: Python easy implementation\n"
   ]
  },
  {
   "cell_type": "markdown",
   "id": "a8d785d0",
   "metadata": {},
   "source": [
    "### We are going to use DictReader for reading the file and time to measure the speed of our work\n"
   ]
  },
  {
   "cell_type": "code",
   "execution_count": 1,
   "id": "847b6d96",
   "metadata": {},
   "outputs": [],
   "source": [
    "# import relevant modules\n",
    "import csv\n",
    "import time\n",
    "inicio = time.time()\n",
    "# import data from SingaporeWeather csv file\n",
    "filename = open('ResalePricesSingapore.csv')\n",
    "file = csv.DictReader(filename)"
   ]
  },
  {
   "cell_type": "markdown",
   "id": "c258b380",
   "metadata": {},
   "source": [
    "#### First of all we will work in a Memory Based Implementation"
   ]
  },
  {
   "cell_type": "markdown",
   "id": "842469fd",
   "metadata": {},
   "source": [
    "First four dictionaries will be created in order to compare the matric relevant digit to its equivalent information in the query."
   ]
  },
  {
   "cell_type": "code",
   "execution_count": 2,
   "id": "31e0efba",
   "metadata": {},
   "outputs": [],
   "source": [
    "year_matric = {4:\"2014\",5: \"2015\",6: \"2016\",7:\"2017\",8:\"2018\",9:\"2019\",0:\"2000\",1:\"2001\",2:\"2002\",3:\"2003\"}\n",
    "town_matric = {0: \"ANG MO KIO\", 1:\"BEDOK\", 2:\"BUKIT BATOK\", 3:\"CLEMENTI\", 4:\"CHOA CHU KANG\", 5:\"HOUGANG\", 6:\"JURONG WEST\", 7:\"PUNGGOL\", 8:\"WOODLANDS\", 9:\"YISHUN\"}\n",
    "month_matric = {0: \"10\", 1:\"11\", 2:\"12\", 3:\"01\", 4:\"02\", 5:\"03\", 6:\"04\",7:\"05\", 8:\"06\", 9:\"07\",10:\"08\", 11:\"09\"}\n",
    "value_dict = {0:\"Minimum Area\", 1:\"Average Area\", 2:\"Standard Deviation of Area\", 3:\"Minimum Price\", 4:\"Average Price\", 5:\"Standard Deviation of Price\"}"
   ]
  },
  {
   "cell_type": "markdown",
   "id": "7833fb45",
   "metadata": {},
   "source": [
    "First four dictionaries will be created in order to compare the matric relevant digit to its equivalent information in the query. Once the dictionaries are created the matric number is retrieved and each relevant digit stored in a variable."
   ]
  },
  {
   "cell_type": "code",
   "execution_count": 3,
   "id": "6c5351cf",
   "metadata": {},
   "outputs": [],
   "source": [
    "matric_number=\"N2303635K\"\n",
    "#solucionar meses sin 0\n",
    "n_town = int(matric_number[-4])\n",
    "n_month1 = int(matric_number[-3])\n",
    "n_month2 = (n_month1 + 1) % 12\n",
    "n_month3 = (n_month1 + 2) % 12\n",
    "\n",
    "n_year1 = int(matric_number[-2])\n",
    "n_year2 = n_year1\n",
    "n_year3 = n_year2\n",
    "\n",
    "if n_month1 == 11:\n",
    "    n_year3 = n_year1 +1\n",
    "if n_month1 == 12:\n",
    "    n_year3 = n_year1 +1\n",
    "    n_year2 = n_year1 +1\n",
    "townstr = town_matric[n_town]\n",
    "query = 2"
   ]
  },
  {
   "cell_type": "markdown",
   "id": "57778074",
   "metadata": {},
   "source": [
    "Once the important values of the query are retrieved, we can create the arrays were the data would be stored. It is important to indicate that in this milestone only one single array for all the data is used. When the model would be implemented in Java ZoneMaps would be used for computing the values. This firstmileston is just a quick idea of the model"
   ]
  },
  {
   "cell_type": "code",
   "execution_count": 4,
   "id": "15e4f085",
   "metadata": {},
   "outputs": [],
   "source": [
    "month = []\n",
    "town = []\n",
    "resale_price = []\n",
    "flat_area_sqm = []\n",
    "lista = []\n",
    "fieldnames = file.fieldnames"
   ]
  },
  {
   "cell_type": "markdown",
   "id": "49d4d03e",
   "metadata": {},
   "source": [
    "Then we read the csv column by column only for the four important variables."
   ]
  },
  {
   "cell_type": "code",
   "execution_count": 5,
   "id": "e8ab1058",
   "metadata": {},
   "outputs": [],
   "source": [
    "for col in file:\n",
    "    month.append(col[fieldnames[0]])\n",
    "    town.append(col[fieldnames[1]])\n",
    "    resale_price.append(float(col[fieldnames[9]]))\n",
    "    flat_area_sqm.append(float(col[fieldnames[6]]))\n"
   ]
  },
  {
   "cell_type": "markdown",
   "id": "2191cb17",
   "metadata": {},
   "source": [
    "Once the data retrieve it is compared to the requirement of the query. Then the correct data is stored in similar arrays to the previous ones.\n"
   ]
  },
  {
   "cell_type": "code",
   "execution_count": 6,
   "id": "be49cd27",
   "metadata": {},
   "outputs": [
    {
     "name": "stdout",
     "output_type": "stream",
     "text": [
      "For querying the Standard Deviation of Area, a student with matriculation number N2303635K should scan the resale HDB flats in JURONG WEST from 2015-01 to 2015-02.\n"
     ]
    }
   ],
   "source": [
    "# position arrays to identify data for years 2010 and 2020, Changi, and without empty data\n",
    "positions = []\n",
    "year1, year2, year3 = year_matric[n_year1], year_matric[n_year2], year_matric[n_year3]\n",
    "month1, month2, month3 = month_matric[n_month1],month_matric[n_month2], month_matric[n_month3]\n",
    "\n",
    "# Formar la fecha con el formato \"yyyy-mm\"\n",
    "date1 = f\"{year1}-{month1}\"\n",
    "date2 = f\"{year2}-{month2}\"\n",
    "date3 = f\"{year3}-{month3}\"\n",
    "\n",
    "print(f\"For querying the {value_dict[query]}, a student with matriculation number {matric_number} should scan the resale HDB flats in {townstr} from {date1} to {date2}.\")\n",
    "for i in range(len(month)):\n",
    "    if month[i] in (date1, date2, date3) and town[i] == townstr:\n",
    "        positions.append(i)"
   ]
  },
  {
   "cell_type": "code",
   "execution_count": 7,
   "id": "bc1e1bc2",
   "metadata": {},
   "outputs": [],
   "source": [
    "\n",
    "month2,town2,resale_price2,flat_area_sqm2 = [],[],[],[]\n",
    "\n",
    "for i in range(len(positions)):\n",
    "    month2.append(month[positions[i]])\n",
    "\n",
    "for i in range(len(positions)):\n",
    "    town2.append(town[positions[i]])\n",
    "\n",
    "for i in range(len(positions)):\n",
    "    resale_price2.append(resale_price[positions[i]])\n",
    "\n",
    "for i in range(len(positions)):\n",
    "    flat_area_sqm2.append(flat_area_sqm[positions[i]])"
   ]
  },
  {
   "cell_type": "code",
   "execution_count": null,
   "id": "69809bdf",
   "metadata": {},
   "outputs": [],
   "source": []
  },
  {
   "cell_type": "code",
   "execution_count": 8,
   "id": "877a2fc2",
   "metadata": {},
   "outputs": [
    {
     "name": "stdout",
     "output_type": "stream",
     "text": [
      "10939.372546185177\n"
     ]
    }
   ],
   "source": [
    "# querying and storing max temp for each month\n",
    "value = 0\n",
    "valuem = 1000000\n",
    "\n",
    "if query == 4 or query == 3 or query ==5:\n",
    "    for i in resale_price2:\n",
    "        if query == 3:\n",
    "            if i < valuem:\n",
    "                valuem =  i\n",
    "        elif query == 4 or query == 5:\n",
    "            value += i\n",
    "            value /= len(month2)\n",
    "\n",
    "    if query == 5:\n",
    "        sum = 0;\n",
    "        for i in resale_price2:\n",
    "            sum += (i-value)**2\n",
    "        value = sum / len(resale_price2)\n",
    "\n",
    "    \n",
    "if query == 0 or query == 1 or query ==2:\n",
    "    for i in flat_area_sqm2:\n",
    "        if query == 0:\n",
    "            if i < valuem:\n",
    "                valuem =  i\n",
    "        elif query == 1 or query == 2:\n",
    "            value += i\n",
    "            value /= len(month2)\n",
    "\n",
    "    if query == 2:\n",
    "        sum = 0;\n",
    "        for i in flat_area_sqm2:\n",
    "            sum += (i-value)**2\n",
    "        value = sum / len(flat_area_sqm2)\n",
    "        \n",
    "        \n",
    "print(value)"
   ]
  },
  {
   "cell_type": "code",
   "execution_count": 9,
   "id": "d4ee5830",
   "metadata": {},
   "outputs": [
    {
     "name": "stdout",
     "output_type": "stream",
     "text": [
      "Tiempo total de ejecución: 2.186056613922119 segundos\n"
     ]
    }
   ],
   "source": [
    "results = []\n",
    "address = f\"ScanResults_{matric_number}.csv\"\n",
    "\n",
    "if query<3:\n",
    "    for i in range(len(month2)):\n",
    "            results.append([month2[i], town2[i], flat_area_sqm2[i], value_dict[query], value])\n",
    "    with open(address, 'w', newline=\"\") as f:\n",
    "        headers = ['Month', 'town', 'flat_area_sqm', 'query','value']\n",
    "        write = csv.writer(f)\n",
    "        write.writerow(headers)\n",
    "        write.writerows(results)\n",
    "else:\n",
    "        for i in range(len(month2)):\n",
    "            results.append([month2[i], town2[i], resale_price[i], value_dict[query], value])\n",
    "        with open(address, 'w', newline=\"\") as f:\n",
    "            headers = ['Month', 'town', 'resale_price', 'query','value']\n",
    "            write = csv.writer(f)\n",
    "            write.writerow(headers)\n",
    "            write.writerows(results)\n",
    "\n",
    "fin = time.time()\n",
    "\n",
    "# Calcula la diferencia para obtener el tiempo total\n",
    "tiempo_total = fin - inicio\n",
    "print(f\"Tiempo total de ejecución: {tiempo_total} segundos\")"
   ]
  }
 ],
 "metadata": {
  "kernelspec": {
   "display_name": "Python 3 (ipykernel)",
   "language": "python",
   "name": "python3"
  },
  "language_info": {
   "codemirror_mode": {
    "name": "ipython",
    "version": 3
   },
   "file_extension": ".py",
   "mimetype": "text/x-python",
   "name": "python",
   "nbconvert_exporter": "python",
   "pygments_lexer": "ipython3",
   "version": "3.10.9"
  }
 },
 "nbformat": 4,
 "nbformat_minor": 5
}
